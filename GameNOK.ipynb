{
  "nbformat": 4,
  "nbformat_minor": 0,
  "metadata": {
    "colab": {
      "provenance": [],
      "authorship_tag": "ABX9TyP7W6hmgfpu4gbSk5hfm5Su",
      "include_colab_link": true
    },
    "kernelspec": {
      "name": "python3",
      "display_name": "Python 3"
    },
    "language_info": {
      "name": "python"
    }
  },
  "cells": [
    {
      "cell_type": "markdown",
      "metadata": {
        "id": "view-in-github",
        "colab_type": "text"
      },
      "source": [
        "<a href=\"https://colab.research.google.com/github/NikitaZhukovskiy/dev_methodology/blob/main/GameNOK.ipynb\" target=\"_parent\"><img src=\"https://colab.research.google.com/assets/colab-badge.svg\" alt=\"Open In Colab\"/></a>"
      ]
    },
    {
      "cell_type": "code",
      "execution_count": null,
      "metadata": {
        "colab": {
          "base_uri": "https://localhost:8080/"
        },
        "id": "tgFdUJlvngr2",
        "outputId": "cdc2ba3e-de86-40a9-e447-fdc35f7aad72"
      },
      "outputs": [
        {
          "output_type": "stream",
          "name": "stdout",
          "text": [
            "Welcome to the Brain Games!\n",
            "May I have your name? Nikita\n",
            "Hello, Nikita!\n",
            "Find the smallest common multiple of given numbers.\n",
            "Question: 29 22 4\n",
            "Your answer: 1276\n",
            "Correct!\n",
            "Question: 88 36 79\n",
            "Your answer: 5\n",
            "'5' is wrong answer ;(. Correct answer was '62568'.\n",
            "Let's try again, Nikita!\n"
          ]
        }
      ],
      "source": [
        "import math\n",
        "import random\n",
        "\n",
        "def gcd(a, b):\n",
        "    \"\"\"Вычисляет наибольший общий делитель (НОД) двух чисел.\"\"\"\n",
        "    while b:\n",
        "        a, b = b, a % b\n",
        "    return a\n",
        "\n",
        "def lcm(a, b):\n",
        "    \"\"\"Вычисляет наименьшее общее кратное (НОК) двух чисел.\"\"\"\n",
        "    return a * b // gcd(a, b)\n",
        "\n",
        "def lcm_three(a, b, c):\n",
        "    \"\"\"Вычисляет НОК для трёх чисел.\"\"\"\n",
        "    return lcm(lcm(a, b), c)\n",
        "\n",
        "def generate_numbers():\n",
        "    \"\"\"Генерирует три случайных числа.\"\"\"\n",
        "    return [random.randint(1, 100) for _ in range(3)]\n",
        "\n",
        "def play_game():\n",
        "    print(\"Welcome to the Brain Games!\")\n",
        "    name = input(\"May I have your name? \")\n",
        "    print(f\"Hello, {name}!\")\n",
        "    print(\"Find the smallest common multiple of given numbers.\")\n",
        "\n",
        "    correct_answers = 0\n",
        "    while correct_answers < 3:\n",
        "        numbers = generate_numbers()\n",
        "        correct_answer = lcm_three(*numbers)\n",
        "\n",
        "        print(f\"Question: {' '.join(map(str, numbers))}\")\n",
        "        user_answer = int(input(\"Your answer: \"))\n",
        "\n",
        "        if user_answer == correct_answer:\n",
        "            print(\"Correct!\")\n",
        "            correct_answers += 1\n",
        "        else:\n",
        "            print(f\"'{user_answer}' is wrong answer ;(. Correct answer was '{correct_answer}'.\")\n",
        "            print(f\"Let's try again, {name}!\")\n",
        "            return\n",
        "\n",
        "    print(f\"Congratulations, {name}!\")\n",
        "\n",
        "if __name__ == \"__main__\":\n",
        "    play_game()"
      ]
    }
  ]
}